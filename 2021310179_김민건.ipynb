{
  "nbformat": 4,
  "nbformat_minor": 0,
  "metadata": {
    "colab": {
      "provenance": []
    },
    "kernelspec": {
      "name": "python3",
      "display_name": "Python 3"
    },
    "language_info": {
      "name": "python"
    }
  },
  "cells": [
    {
      "cell_type": "code",
      "execution_count": 33,
      "metadata": {
        "colab": {
          "base_uri": "https://localhost:8080/"
        },
        "id": "QFpGSvRVwG7T",
        "outputId": "a8113404-7400-454c-9f91-e4fa097a4da1"
      },
      "outputs": [
        {
          "output_type": "stream",
          "name": "stdout",
          "text": [
            "77\n",
            "False\n"
          ]
        }
      ],
      "source": [
        "def isHappy(n):\n",
        "  n_list = list(n)\n",
        "\n",
        "  new = 0\n",
        "  seen_list = []\n",
        "\n",
        "  while new != 1 and new not in seen_list:\n",
        "    seen_list.append(int(new))\n",
        "    new = 0\n",
        "\n",
        "    for i in range(len(n_list)):\n",
        "        new += int(n_list[i]) ** 2\n",
        "    n_list = list(str(new))\n",
        "\n",
        "  if new == 1:\n",
        "    return True\n",
        "  else:\n",
        "    return False\n",
        "\n",
        "n = input()\n",
        "print(isHappy(n))"
      ]
    }
  ]
}